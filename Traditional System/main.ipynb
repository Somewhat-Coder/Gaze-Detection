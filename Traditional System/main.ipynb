{
 "cells": [
  {
   "cell_type": "code",
   "execution_count": null,
   "metadata": {},
   "outputs": [
    {
     "name": "stderr",
     "output_type": "stream",
     "text": [
      "/var/folders/6g/4zq1d985075_7_l6gxj2n81m0000gn/T/ipykernel_67465/1717740113.py:18: FutureWarning: Series.__getitem__ treating keys as positions is deprecated. In a future version, integer keys will always be treated as labels (consistent with DataFrame behavior). To access a value by position, use `ser.iloc[pos]`\n",
      "  img_path = os.path.join(IMAGES_PATH, row[0])\n",
      "/var/folders/6g/4zq1d985075_7_l6gxj2n81m0000gn/T/ipykernel_67465/1717740113.py:27: FutureWarning: Series.__getitem__ treating keys as positions is deprecated. In a future version, integer keys will always be treated as labels (consistent with DataFrame behavior). To access a value by position, use `ser.iloc[pos]`\n",
      "  label = row[1]\n"
     ]
    }
   ],
   "source": [
    "import pandas as pd\n",
    "import numpy as np\n",
    "import os\n",
    "import cv2 as cv\n",
    "\n",
    "\n",
    "annotations1 = pd.read_csv('./Columbia DataSet/_annotations.csv')\n",
    "img_size = 224\n",
    "\n",
    "def load_data(IMAGES_PATH, annotations):\n",
    "    images = []\n",
    "    gaze_labels = []\n",
    "    \n",
    "    \n",
    "    for index, row in annotations.iterrows():\n",
    "        \n",
    "            img_path = os.path.join(IMAGES_PATH, row[0])\n",
    "            image = cv.imread(img_path)\n",
    "                \n",
    "            image = cv.cvtColor(image, cv.COLOR_BGR2GRAY)\n",
    "            \n",
    "            image_resized = cv.resize(image, (img_size, img_size))\n",
    "\n",
    "            images.append(image_resized)\n",
    "            \n",
    "            label = row[1]\n",
    "            \n",
    "            if label < -1:\n",
    "                gaze_labels.append(0)\n",
    "            elif label > 1:\n",
    "                gaze_labels.append(2)\n",
    "            else:\n",
    "                gaze_labels.append(1)\n",
    "                \n",
    "            \n",
    "    return np.array(images), np.array(gaze_labels)\n",
    "\n",
    "X, Y = load_data('./Columbia DataSet', annotations1)"
   ]
  },
  {
   "cell_type": "code",
   "execution_count": null,
   "metadata": {},
   "outputs": [],
   "source": [
    "from sklearn.model_selection import train_test_split\n",
    "\n",
    "X_train, X_test, Y_train, Y_test = train_test_split(X, Y, test_size=0.3, shuffle=True, random_state=42)"
   ]
  },
  {
   "cell_type": "code",
   "execution_count": null,
   "metadata": {},
   "outputs": [],
   "source": [
    "import cv2 as cv\n",
    "import numpy as np\n",
    "import dlib\n",
    "\n",
    "\n",
    "detectFace = dlib.get_frontal_face_detector()\n",
    "predictor = dlib.shape_predictor(\"Predictor/shape_predictor_68_face_landmarks.dat\")\n",
    "\n",
    "\n",
    "def faceDetector(gray):\n",
    "    faces = detectFace(gray)\n",
    "    return faces[0]\n",
    "\n",
    "def faceLandmakDetector(gray, face):\n",
    "    landmarks = predictor(gray, face)\n",
    "    pointList = []\n",
    "\n",
    "    for n in range(0, 68):\n",
    "        point = (landmarks.part(n).x, landmarks.part(n).y)\n",
    "        pointList.append(point)\n",
    "  \n",
    "    return pointList\n",
    "\n",
    "def EyeTracking(gray, eyePoints):\n",
    "    dim = gray.shape\n",
    "\n",
    "    mask = np.zeros(dim, dtype=np.uint8)\n",
    "    PollyPoints = np.array(eyePoints, dtype=np.int32)\n",
    "   \n",
    "    cv.fillPoly(mask, [PollyPoints], 1)\n",
    "    eyeImage = cv.bitwise_and(gray, gray, mask=mask)\n",
    "\n",
    "    maxX = (max(eyePoints, key=lambda item: item[0]))[0]\n",
    "    minX = (min(eyePoints, key=lambda item: item[0]))[0]\n",
    "    maxY = (max(eyePoints, key=lambda item: item[1]))[1]\n",
    "    minY = (min(eyePoints, key=lambda item: item[1]))[1]\n",
    "\n",
    "    eyeImage[mask == 0] = 255\n",
    "\n",
    "    cropedEye = eyeImage[minY:maxY, minX:maxX]\n",
    "    height, width = cropedEye.shape\n",
    "\n",
    "    ret, thresholdEye = cv.threshold(cropedEye, 100, 255, cv.THRESH_BINARY)\n",
    "\n",
    "    center_width = int(width * 0.2) \n",
    "    side_width = int((width - center_width) / 2) \n",
    "\n",
    "    rightPart = thresholdEye[0:height, 0:side_width]\n",
    "    centerPart = thresholdEye[0:height, side_width:side_width + center_width]\n",
    "    leftPart = thresholdEye[0:height, side_width + center_width:width]\n",
    "\n",
    "\n",
    "    rightBlackPx = np.sum(rightPart == 0)\n",
    "    centerBlackPx = np.sum(centerPart == 0)\n",
    "    leftBlackPx = np.sum(leftPart == 0)\n",
    "    pos = Position([rightBlackPx, centerBlackPx, leftBlackPx])\n",
    "\n",
    "    return mask, pos\n",
    "\n",
    "def Position(ValuesList):\n",
    "    maxIndex = ValuesList.index(max(ValuesList))\n",
    "    posEye = ''\n",
    "    if maxIndex == 0:\n",
    "        posEye = 0\n",
    "    elif maxIndex == 1:\n",
    "        posEye = 1\n",
    "    elif maxIndex == 2:\n",
    "        posEye = 2\n",
    "    return posEye"
   ]
  },
  {
   "cell_type": "code",
   "execution_count": null,
   "metadata": {},
   "outputs": [],
   "source": [
    "def detectGaze(frame):\n",
    "    grayFrame = frame\n",
    "\n",
    "    try:\n",
    "        face = faceDetector(grayFrame)\n",
    "\n",
    "        if face is not None:\n",
    "            PointList = faceLandmakDetector(grayFrame, face)\n",
    "\n",
    "            RightEyePoint = PointList[36:42]\n",
    "            LeftEyePoint = PointList[42:48]\n",
    "\n",
    "            maskRight, pos1 = EyeTracking(grayFrame, RightEyePoint)\n",
    "            maskLeft, pos2 = EyeTracking(grayFrame, LeftEyePoint)\n",
    "\n",
    "            if pos1 == 2 and pos1 == 2:\n",
    "                return 2\n",
    "            elif pos1 == 0 and pos2 == 0:\n",
    "                return 0\n",
    "            elif pos1 == 1 and pos2 == 1:\n",
    "                return 1\n",
    "            else:\n",
    "                return 100\n",
    "            \n",
    "        else:\n",
    "            return 100\n",
    "        \n",
    "    except:\n",
    "        return 100"
   ]
  },
  {
   "cell_type": "code",
   "execution_count": 75,
   "metadata": {},
   "outputs": [],
   "source": [
    "\n",
    "y_pred = []\n",
    "\n",
    "for x in X_test:\n",
    "        y_pred.append(detectGaze(x))\n"
   ]
  },
  {
   "cell_type": "code",
   "execution_count": 76,
   "metadata": {},
   "outputs": [
    {
     "name": "stdout",
     "output_type": "stream",
     "text": [
      "Accuracy: 0.5338894681960376\n"
     ]
    }
   ],
   "source": [
    "accuracy = np.mean(y_pred == Y_test)\n",
    "print(\"Accuracy:\", accuracy)"
   ]
  },
  {
   "cell_type": "markdown",
   "metadata": {},
   "source": [
    "## Metrics for Evaluation"
   ]
  },
  {
   "cell_type": "code",
   "execution_count": 82,
   "metadata": {},
   "outputs": [
    {
     "data": {
      "text/plain": [
       "(959, 224, 224)"
      ]
     },
     "execution_count": 82,
     "metadata": {},
     "output_type": "execute_result"
    }
   ],
   "source": [
    "X_test.shape"
   ]
  },
  {
   "cell_type": "code",
   "execution_count": 78,
   "metadata": {},
   "outputs": [
    {
     "name": "stdout",
     "output_type": "stream",
     "text": [
      "- Accuracy: 0.53\n",
      "- Precision: 0.66\n",
      "- Recall: 0.53\n",
      "- F1-Score: 0.49\n"
     ]
    }
   ],
   "source": [
    "from sklearn.metrics import accuracy_score, precision_score, recall_score, f1_score, confusion_matrix\n",
    " \n",
    "\n",
    "accuracy = accuracy_score(Y_test, y_pred)\n",
    "precision = precision_score(Y_test, y_pred, average='weighted', zero_division=0)\n",
    "recall = recall_score(Y_test, y_pred, average='weighted', zero_division=0)\n",
    "f1 = f1_score(Y_test, y_pred, average='weighted', zero_division=0)\n",
    "conf_matrix = confusion_matrix(Y_test, y_pred)\n",
    "\n",
    "\n",
    "print(f\"- Accuracy: {accuracy:.2f}\")\n",
    "print(f\"- Precision: {precision:.2f}\")\n",
    "print(f\"- Recall: {recall:.2f}\")\n",
    "print(f\"- F1-Score: {f1:.2f}\")"
   ]
  },
  {
   "cell_type": "code",
   "execution_count": null,
   "metadata": {},
   "outputs": [
    {
     "data": {
      "image/png": "[encoded data removed]",
      "text/plain": [
       "<Figure size 600x500 with 2 Axes>"
      ]
     },
     "metadata": {},
     "output_type": "display_data"
    }
   ],
   "source": [
    "import matplotlib.pyplot as plt\n",
    "from sklearn.metrics import confusion_matrix\n",
    "import seaborn as sns\n",
    "\n",
    "plt.figure(figsize=(6, 5))\n",
    "sns.heatmap(conf_matrix, annot=True, fmt=\"d\", cmap=\"Blues\", \n",
    "            xticklabels=[\"Left\", \"Center\", \"Right\", \"None\"], \n",
    "            yticklabels=[\"Left\", \"Center\", \"Right\", 'None'])\n",
    "plt.xlabel(\"Predicted Labels\")\n",
    "plt.ylabel(\"True Labels\")\n",
    "plt.title(\"Confusion Matrix\")\n",
    "plt.show()"
   ]
  }
 ],
 "metadata": {
  "kernelspec": {
   "display_name": "Python 3",
   "language": "python",
   "name": "python3"
  },
  "language_info": {
   "codemirror_mode": {
    "name": "ipython",
    "version": 3
   },
   "file_extension": ".py",
   "mimetype": "text/x-python",
   "name": "python",
   "nbconvert_exporter": "python",
   "pygments_lexer": "ipython3",
   "version": "3.12.1"
  }
 },
 "nbformat": 4,
 "nbformat_minor": 2
}
